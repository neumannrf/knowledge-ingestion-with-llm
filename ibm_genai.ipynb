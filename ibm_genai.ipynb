{
 "cells": [
  {
   "cell_type": "markdown",
   "id": "bde088f4-e323-4d65-a1f0-c292e8181e38",
   "metadata": {},
   "source": [
    "## Importing libraries"
   ]
  },
  {
   "cell_type": "code",
   "execution_count": null,
   "id": "0303e8b9-1fd3-4306-834b-09f4edb7f0d3",
   "metadata": {},
   "outputs": [],
   "source": [
    "import json\n",
    "import os\n",
    "\n",
    "from dotenv import load_dotenv\n",
    "\n",
    "from genai import Credentials, Client\n",
    "from genai.schema import TextGenerationParameters, TextGenerationReturnOptions, ModerationHAP, ModerationParameters"
   ]
  },
  {
   "cell_type": "markdown",
   "id": "ef9d51be-53ac-4fc3-8bea-dc27325ba7fc",
   "metadata": {},
   "source": [
    "## Loading credentials"
   ]
  },
  {
   "cell_type": "code",
   "execution_count": null,
   "id": "78d955d0-9f26-44cf-9746-cd2faefa0b72",
   "metadata": {},
   "outputs": [],
   "source": [
    "load_dotenv()\n",
    "api_key = os.getenv(\"GENAI_KEY\", None)\n",
    "api_endpoint = os.getenv(\"GENAI_API\", None)\n",
    "creds = Credentials(api_key, api_endpoint)"
   ]
  },
  {
   "cell_type": "markdown",
   "id": "aaeaa5d1-33d8-4af1-a578-95a30d819d1f",
   "metadata": {},
   "source": [
    "## Instantiating the GENAI Proxy Object and Client Object"
   ]
  },
  {
   "cell_type": "code",
   "execution_count": null,
   "id": "20709503-411c-4a7f-b0aa-d80e5feaa70d",
   "metadata": {},
   "outputs": [],
   "source": [
    "params = TextGenerationParameters(\n",
    "    decoding_method=\"greedy\",\n",
    "    repetition_penalty=1.2,\n",
    "    min_new_tokens=10,\n",
    "    max_new_tokens=512,\n",
    "    return_options=TextGenerationReturnOptions(\n",
    "        input_text=True,\n",
    "    )\n",
    ")\n",
    "mods = ModerationParameters(\n",
    "    hap=ModerationHAP(input=True, output=True, threshold=0.75)\n",
    ")\n",
    "\n",
    "model = \"meta-llama/llama-2-70b\"\n",
    "client = Client(credentials=creds)"
   ]
  },
  {
   "cell_type": "markdown",
   "id": "6a2355e5-5b74-4f8e-afa4-34025156172f",
   "metadata": {},
   "source": [
    "## Importing input files"
   ]
  },
  {
   "cell_type": "code",
   "execution_count": null,
   "id": "358e78b1-962b-4223-8e89-5c61d79df44d",
   "metadata": {},
   "outputs": [],
   "source": [
    "use_case = 'property-extraction'"
   ]
  },
  {
   "cell_type": "code",
   "execution_count": null,
   "id": "b5ba9fa6",
   "metadata": {},
   "outputs": [],
   "source": [
    "with open(os.path.join(os.getcwd(), f\"use-cases/{use_case}/training_examples.json\"), \"r\") as examples_file:\n",
    "    training_examples = eval(examples_file.read())"
   ]
  },
  {
   "cell_type": "code",
   "execution_count": null,
   "id": "804fad97",
   "metadata": {},
   "outputs": [],
   "source": [
    "with open(os.path.join(os.getcwd(), f\"use-cases/{use_case}/instruction.json\"), \"r\") as instruction_file:\n",
    "    instruction = json.load(instruction_file)"
   ]
  },
  {
   "cell_type": "code",
   "execution_count": null,
   "id": "05ddba56",
   "metadata": {},
   "outputs": [],
   "source": [
    "with open(os.path.join(os.getcwd(), f\"use-cases/{use_case}/test_examples.json\"), \"r\") as tests_file:\n",
    "    tests = eval(tests_file.read())"
   ]
  },
  {
   "cell_type": "markdown",
   "id": "420f35f9-d370-489b-83e7-0ff33e3d77db",
   "metadata": {},
   "source": [
    "## Building prompt template"
   ]
  },
  {
   "cell_type": "code",
   "execution_count": null,
   "id": "b6070898",
   "metadata": {},
   "outputs": [],
   "source": [
    "pt = \"\"\"\n",
    "{{instruction}}\n",
    "\n",
    "{{examples}}\n",
    "\n",
    "Input: {{inputs}}\n",
    "\"\"\"\n",
    "\n",
    "prompt_response = client.prompt.create(\n",
    "    model_id=model,\n",
    "    name=\"property-extraction\",\n",
    "    input=pt,\n",
    "    parameters=params,\n",
    ")\n",
    "prompt_id = prompt_response.result.id"
   ]
  },
  {
   "cell_type": "code",
   "execution_count": null,
   "id": "ac1d1032",
   "metadata": {},
   "outputs": [],
   "source": [
    "\n",
    "list_of_inputs = [inputs['input'] for inputs in training_examples]\n",
    "list_of_outputs = [json.dumps(outputs['output']) for outputs in training_examples]\n",
    "\n",
    "i=0\n",
    "example_text = \"\"\n",
    "while i < len(list_of_inputs):\n",
    "    example_text += f\"\\nInput: {list_of_inputs[i]}\\nOutput: {list_of_outputs[i]}\\n\"\n",
    "    i += 1"
   ]
  },
  {
   "cell_type": "code",
   "execution_count": null,
   "id": "72fd46f1-b44b-414b-9bd5-07e97e5aba94",
   "metadata": {},
   "outputs": [],
   "source": [
    "list_of_test_inputs = [test['input'] for test in tests]\n",
    "\n",
    "prompt_data = {\n",
    "    \"instruction\": instruction['instruction'],\n",
    "    \"examples\": example_text,\n",
    "    \"inputs\": list_of_test_inputs,\n",
    "}"
   ]
  },
  {
   "cell_type": "markdown",
   "id": "088c7b65-1247-4866-87c2-b5a66bbaa1b7",
   "metadata": {},
   "source": [
    "## Rendering prompt and generating response"
   ]
  },
  {
   "cell_type": "code",
   "execution_count": null,
   "id": "f0ed57aa-a8ff-4cdc-b0fd-5f76acb625ee",
   "metadata": {},
   "outputs": [],
   "source": [
    "for response in client.text.generation.create(\n",
    "    prompt_id=prompt_id,\n",
    "    data=prompt_data,\n",
    "    parameters=params,\n",
    "    moderations=mods\n",
    "):\n",
    "    result = response.results[0]\n",
    "    print(f\"Input Text: {result.input_text}\")\n",
    "    print(f\"Generated Text:\\n{result.generated_text}\")\n",
    "    print(\"\")"
   ]
  },
  {
   "cell_type": "markdown",
   "id": "1eae5838-3961-4243-9894-3efe6c9f92b5",
   "metadata": {},
   "source": [
    "## Expected response"
   ]
  },
  {
   "cell_type": "code",
   "execution_count": null,
   "id": "fb0f5790-5415-4307-8ccd-15e82b306b23",
   "metadata": {},
   "outputs": [],
   "source": [
    "for test in tests:\n",
    "    print(f\"Output: {json.dumps(test['output'])}\\n\")"
   ]
  }
 ],
 "metadata": {
  "kernelspec": {
   "display_name": "Python 3 (ipykernel)",
   "language": "python",
   "name": "python3"
  },
  "language_info": {
   "codemirror_mode": {
    "name": "ipython",
    "version": 3
   },
   "file_extension": ".py",
   "mimetype": "text/x-python",
   "name": "python",
   "nbconvert_exporter": "python",
   "pygments_lexer": "ipython3",
   "version": "3.12.2"
  }
 },
 "nbformat": 4,
 "nbformat_minor": 5
}
